{
 "cells": [
  {
   "cell_type": "code",
   "execution_count": 1,
   "id": "cf4ccce1-d68c-4710-844b-a7f2c0cdc5e5",
   "metadata": {},
   "outputs": [
    {
     "name": "stderr",
     "output_type": "stream",
     "text": [
      "/opt/conda/lib/python3.12/site-packages/milvus_lite/__init__.py:15: UserWarning: pkg_resources is deprecated as an API. See https://setuptools.pypa.io/en/latest/pkg_resources.html. The pkg_resources package is slated for removal as early as 2025-11-30. Refrain from using this package or pin to Setuptools<81.\n",
      "  from pkg_resources import DistributionNotFound, get_distribution\n"
     ]
    }
   ],
   "source": [
    "from api2 import *"
   ]
  },
  {
   "cell_type": "code",
   "execution_count": 2,
   "id": "a61bef13-970b-4e1d-9a88-55849115d837",
   "metadata": {},
   "outputs": [],
   "source": [
    "async def run_convo(message,conversation_id=None):\n",
    "    msg = ChatRequest(message=message,conversation_id=conversation_id)\n",
    "    resp = await chat_endpoint(msg)\n",
    "    for m in resp.messages:\n",
    "        print(m.content)\n",
    "    print('\\ncontext:',resp.context)\n",
    "    print('='*20)\n",
    "    for e in resp.events:\n",
    "        print(e,'\\n'+'*'*10)\n",
    "    \n",
    "    #print('\\nconvo:',list(app.conversation_store._conversations.keys()))\n",
    "    return resp"
   ]
  },
  {
   "cell_type": "code",
   "execution_count": 3,
   "id": "aed34f41-ea58-434e-b71a-193bf330c638",
   "metadata": {},
   "outputs": [
    {
     "name": "stdout",
     "output_type": "stream",
     "text": [
      "MyName 74325795\n"
     ]
    }
   ],
   "source": [
    "# create dummy data\n",
    "import random\n",
    "customer_name = \"MyName\"\n",
    "phone_number = '7' + str(random.randint(1000000, 9999999))\n",
    "\n",
    "print(customer_name, phone_number)"
   ]
  },
  {
   "cell_type": "code",
   "execution_count": 9,
   "id": "c20a50d0-770a-4b2c-af6e-b579fa0dee8e",
   "metadata": {},
   "outputs": [
    {
     "name": "stderr",
     "output_type": "stream",
     "text": [
      "INFO:httpx:HTTP Request: POST https://api.openai.com/v1/responses \"HTTP/1.1 200 OK\"\n",
      "INFO:httpx:HTTP Request: POST https://api.openai.com/v1/responses \"HTTP/1.1 200 OK\"\n",
      "INFO:httpx:HTTP Request: POST https://api.openai.com/v1/responses \"HTTP/1.1 200 OK\"\n"
     ]
    },
    {
     "name": "stdout",
     "output_type": "stream",
     "text": [
      "Before I provide you with information about our roaming plans or assist you with purchasing one, could you please provide me with your name and phone number? This will help me update your profile and better assist you.\n",
      "\n",
      "context: {'customer_name': None, 'phone_number': None, 'roaming_plan': None}\n",
      "====================\n",
      "id='ac8e342ab7fe40aa80a8616ec13fbea1' type='message' agent='Customer Service Agent' content='Before I provide you with information about our roaming plans or assist you with purchasing one, could you please provide me with your name and phone number? This will help me update your profile and better assist you.' metadata=None timestamp=None \n",
      "**********\n"
     ]
    }
   ],
   "source": [
    "message = \"I would like to buy a roaming plan. What roaming plans do you have?\"\n",
    "res = await run_convo(message)"
   ]
  },
  {
   "cell_type": "code",
   "execution_count": 10,
   "id": "54bf9ffb-b176-40bd-90a0-e6133395dc0b",
   "metadata": {},
   "outputs": [
    {
     "name": "stderr",
     "output_type": "stream",
     "text": [
      "INFO:httpx:HTTP Request: POST https://api.openai.com/v1/responses \"HTTP/1.1 200 OK\"\n",
      "INFO:httpx:HTTP Request: POST https://api.openai.com/v1/responses \"HTTP/1.1 200 OK\"\n",
      "INFO:httpx:HTTP Request: POST https://api.openai.com/v1/responses \"HTTP/1.1 200 OK\"\n",
      "INFO:httpx:HTTP Request: POST https://api.openai.com/v1/responses \"HTTP/1.1 200 OK\"\n"
     ]
    },
    {
     "name": "stdout",
     "output_type": "stream",
     "text": [
      "Thank you, MyName, for confirming your phone number as 74325795. To recommend the best roaming plan for you, could you please let me know the destinations you are planning to travel to? This will help me suggest the most suitable roaming plans for your travels.\n",
      "\n",
      "context: {'customer_name': 'MyName', 'phone_number': '74325795', 'roaming_plan': None}\n",
      "====================\n",
      "id='a4cddadc60e940db832626c6a12c8213' type='tool_call' agent='Customer Service Agent' content='get_customer_information_tool' metadata={'tool_args': {'customer_name': 'MyName', 'phone_number': '74325795'}} timestamp=None \n",
      "**********\n",
      "id='3a90d7721b8d4669ab91efa23660af2e' type='tool_output' agent='Customer Service Agent' content='None' metadata={'tool_result': None} timestamp=None \n",
      "**********\n",
      "id='48101b000fbb4970ad66c22d8aa8e7ce' type='handoff' agent='Customer Service Agent' content='Customer Service Agent -> Roaming Agent' metadata={'source_agent': 'Customer Service Agent', 'target_agent': 'Roaming Agent'} timestamp=None \n",
      "**********\n",
      "id='f18e349e37f547879814a2bfbc9360ee' type='message' agent='Roaming Agent' content='Thank you, MyName, for confirming your phone number as 74325795. To recommend the best roaming plan for you, could you please let me know the destinations you are planning to travel to? This will help me suggest the most suitable roaming plans for your travels.' metadata=None timestamp=None \n",
      "**********\n",
      "id='4f3e98c3531b45ed8504918a95229e53' type='context_update' agent='Roaming Agent' content='' metadata={'changes': {'customer_name': 'MyName', 'phone_number': '74325795'}} timestamp=None \n",
      "**********\n"
     ]
    }
   ],
   "source": [
    "message = f\"My name is {customer_name} and my phone number is {phone_number}.\"\n",
    "res = await run_convo(message,res.conversation_id)"
   ]
  },
  {
   "cell_type": "code",
   "execution_count": 11,
   "id": "d285c8a5-48e3-4580-b9bd-eb5a47764af2",
   "metadata": {},
   "outputs": [
    {
     "name": "stderr",
     "output_type": "stream",
     "text": [
      "INFO:httpx:HTTP Request: POST https://api.openai.com/v1/responses \"HTTP/1.1 200 OK\"\n",
      "INFO:httpx:HTTP Request: POST https://api.openai.com/v1/responses \"HTTP/1.1 200 OK\"\n",
      "INFO:httpx:HTTP Request: POST https://api.openai.com/v1/responses \"HTTP/1.1 200 OK\"\n",
      "INFO:httpx:HTTP Request: POST https://api.openai.com/v1/responses \"HTTP/1.1 200 OK\"\n",
      "INFO:httpx:HTTP Request: POST https://api.openai.com/v1/responses \"HTTP/1.1 200 OK\"\n"
     ]
    },
    {
     "name": "stdout",
     "output_type": "stream",
     "text": [
      "For your trip to Australia and New Zealand, the ReadyRoam Asia plan would be suitable. If you would like, I can provide more details about this plan or assist you in purchasing it.\n",
      "\n",
      "context: {'customer_name': 'MyName', 'phone_number': '74325795', 'roaming_plan': None}\n",
      "====================\n",
      "id='f7fa844c379e49bc94d310ff950f03ea' type='handoff' agent='Customer Service Agent' content='Customer Service Agent -> Roaming Agent' metadata={'source_agent': 'Customer Service Agent', 'target_agent': 'Roaming Agent'} timestamp=None \n",
      "**********\n",
      "id='87cb9e82c29c49178bd3cfb5ffe3e768' type='tool_call' agent='Roaming Agent' content='roaming_plans_lookup_tool' metadata={'tool_args': {'destinations': ['Australia', 'New Zealand']}} timestamp=None \n",
      "**********\n",
      "id='f3658981dd26410fb003f660049fb9c1' type='tool_output' agent='Roaming Agent' content='ReadyRoam Asia would be suitable for your trip.' metadata={'tool_result': 'ReadyRoam Asia would be suitable for your trip.'} timestamp=None \n",
      "**********\n",
      "id='7ad32a58d53f46348b75358beb5b9fc7' type='message' agent='Roaming Agent' content='For your trip to Australia and New Zealand, the ReadyRoam Asia plan would be suitable. If you would like, I can provide more details about this plan or assist you in purchasing it.' metadata=None timestamp=None \n",
      "**********\n"
     ]
    }
   ],
   "source": [
    "message=\"I am travelling to Australia and New Zealand. Which roaming plan would be suitable?\"\n",
    "res = await run_convo(message, res.conversation_id)"
   ]
  },
  {
   "cell_type": "code",
   "execution_count": 12,
   "id": "1a2f0aa7-051e-4a19-be63-14cbec8c60f4",
   "metadata": {},
   "outputs": [
    {
     "name": "stderr",
     "output_type": "stream",
     "text": [
      "INFO:httpx:HTTP Request: POST https://api.openai.com/v1/responses \"HTTP/1.1 200 OK\"\n",
      "INFO:httpx:HTTP Request: POST https://api.openai.com/v1/responses \"HTTP/1.1 200 OK\"\n",
      "INFO:httpx:HTTP Request: POST https://api.openai.com/v1/responses \"HTTP/1.1 200 OK\"\n",
      "INFO:httpx:HTTP Request: POST https://api.openai.com/v1/responses \"HTTP/1.1 200 OK\"\n"
     ]
    },
    {
     "name": "stdout",
     "output_type": "stream",
     "text": [
      "To proceed with purchasing the roaming plan, can you please confirm that your phone number is 74325795 and your current plan is None?\n",
      "\n",
      "context: {'customer_name': 'MyName', 'phone_number': '74325795', 'roaming_plan': None}\n",
      "====================\n",
      "id='fc6bef29ec11471e8a560a328e7c09be' type='handoff' agent='Customer Service Agent' content='Customer Service Agent -> Purchase Agent' metadata={'source_agent': 'Customer Service Agent', 'target_agent': 'Purchase Agent'} timestamp=None \n",
      "**********\n",
      "id='91fa6cfbc0924554af35b881bbe435e5' type='message' agent='Purchase Agent' content='To proceed with purchasing the roaming plan, can you please confirm that your phone number is 74325795 and your current plan is None?' metadata=None timestamp=None \n",
      "**********\n"
     ]
    }
   ],
   "source": [
    "message=\"Sure, please help me purchase the Asia plan\"\n",
    "res = await run_convo(message, res.conversation_id)"
   ]
  },
  {
   "cell_type": "code",
   "execution_count": 13,
   "id": "cdf6fb37-18ef-4907-b24c-491e1c91fda4",
   "metadata": {},
   "outputs": [
    {
     "name": "stderr",
     "output_type": "stream",
     "text": [
      "INFO:httpx:HTTP Request: POST https://api.openai.com/v1/responses \"HTTP/1.1 200 OK\"\n",
      "INFO:httpx:HTTP Request: POST https://api.openai.com/v1/responses \"HTTP/1.1 200 OK\"\n",
      "INFO:httpx:HTTP Request: POST https://api.openai.com/v1/responses \"HTTP/1.1 200 OK\"\n",
      "INFO:httpx:HTTP Request: POST https://api.openai.com/v1/responses \"HTTP/1.1 200 OK\"\n",
      "INFO:httpx:HTTP Request: POST https://api.openai.com/v1/responses \"HTTP/1.1 200 OK\"\n",
      "INFO:httpx:HTTP Request: POST https://api.openai.com/v1/responses \"HTTP/1.1 200 OK\"\n"
     ]
    },
    {
     "name": "stdout",
     "output_type": "stream",
     "text": [
      "It seems the plan name \"ReadyRoam Asia\" is not recognized exactly. The correct plan name for your destination is \"Asia.\" I will proceed to purchase the \"Asia\" roaming plan for your phone number.\n",
      "The \"Asia\" roaming plan has been successfully purchased for your phone number 74325795. If you have any other questions or need further assistance, feel free to ask!\n",
      "\n",
      "context: {'customer_name': 'MyName', 'phone_number': '74325795', 'roaming_plan': 'Asia'}\n",
      "====================\n",
      "id='b891331eec9c4fcda9bb16928397c4d0' type='tool_call' agent='Purchase Agent' content='purchase_roaming_tool' metadata={'tool_args': {'new_roaming_plan': 'ReadyRoam Asia'}} timestamp=None \n",
      "**********\n",
      "id='3f6e3fce1eb94faa8aa701e2d5f8e04e' type='tool_output' agent='Purchase Agent' content='An error occurred while running the tool. Please try again. Error: roaming plan must be one of: `Neighbours`, `Asia`, `Worldwide`,`Others` ' metadata={'tool_result': 'An error occurred while running the tool. Please try again. Error: roaming plan must be one of: `Neighbours`, `Asia`, `Worldwide`,`Others` '} timestamp=None \n",
      "**********\n",
      "id='a001f3afdd424f638e6ca4eceec7efb4' type='message' agent='Purchase Agent' content='It seems the plan name \"ReadyRoam Asia\" is not recognized exactly. The correct plan name for your destination is \"Asia.\" I will proceed to purchase the \"Asia\" roaming plan for your phone number.' metadata=None timestamp=None \n",
      "**********\n",
      "id='7e46a139826449358f2f0c5fe69c32b9' type='tool_call' agent='Purchase Agent' content='purchase_roaming_tool' metadata={'tool_args': {'new_roaming_plan': 'Asia'}} timestamp=None \n",
      "**********\n",
      "id='099914dbd0044b77a67918fc10e85f6d' type='tool_output' agent='Purchase Agent' content='Updated roaming plan to Asia for 74325795' metadata={'tool_result': 'Updated roaming plan to Asia for 74325795'} timestamp=None \n",
      "**********\n",
      "id='393aeae754da44bd926c406c4bbb73eb' type='handoff' agent='Purchase Agent' content='Purchase Agent -> Customer Service Agent' metadata={'source_agent': 'Purchase Agent', 'target_agent': 'Customer Service Agent'} timestamp=None \n",
      "**********\n",
      "id='8af171038f33454e9a78adc4e0b1571c' type='message' agent='Customer Service Agent' content='The \"Asia\" roaming plan has been successfully purchased for your phone number 74325795. If you have any other questions or need further assistance, feel free to ask!' metadata=None timestamp=None \n",
      "**********\n",
      "id='52f9e98ecfa34cbb9ab36e199e61fbc0' type='context_update' agent='Customer Service Agent' content='' metadata={'changes': {'roaming_plan': 'Asia'}} timestamp=None \n",
      "**********\n"
     ]
    }
   ],
   "source": [
    "message=\"Yes that is correct\"\n",
    "res = await run_convo(message, res.conversation_id)"
   ]
  },
  {
   "cell_type": "code",
   "execution_count": 14,
   "id": "d3b2eca5-bf1d-4ab9-aa50-ea2c08f45ca2",
   "metadata": {},
   "outputs": [
    {
     "name": "stderr",
     "output_type": "stream",
     "text": [
      "INFO:httpx:HTTP Request: POST https://api.openai.com/v1/responses \"HTTP/1.1 200 OK\"\n",
      "INFO:httpx:HTTP Request: POST https://api.openai.com/v1/responses \"HTTP/1.1 200 OK\"\n",
      "INFO:httpx:HTTP Request: POST https://api.openai.com/v1/responses \"HTTP/1.1 200 OK\"\n",
      "INFO:httpx:HTTP Request: POST https://api.openai.com/v1/responses \"HTTP/1.1 200 OK\"\n"
     ]
    },
    {
     "name": "stdout",
     "output_type": "stream",
     "text": [
      "<performing RAG>\n",
      "encoding query...\n",
      "retrieving answers...\n"
     ]
    },
    {
     "name": "stderr",
     "output_type": "stream",
     "text": [
      "INFO:httpx:HTTP Request: POST https://api.openai.com/v1/embeddings \"HTTP/1.1 200 OK\"\n",
      "INFO:httpx:HTTP Request: POST https://api.openai.com/v1/responses \"HTTP/1.1 200 OK\"\n"
     ]
    },
    {
     "name": "stdout",
     "output_type": "stream",
     "text": [
      "To help you check the amount of roaming data you have used, I will connect you to the roaming agent who can provide detailed information about your roaming data usage.\n",
      "You can check the amount of roaming data you have used by using the My Singtel app. On the app's homescreen, simply toggle to 'Roam' under your mobile number to view your roaming data usage and charges. If you need any more help, please let me know!\n",
      "\n",
      "context: {'customer_name': 'MyName', 'phone_number': '74325795', 'roaming_plan': 'Asia'}\n",
      "====================\n",
      "id='7cd2c65deb7a4647bb19445c0fcc9fa1' type='message' agent='Customer Service Agent' content='To help you check the amount of roaming data you have used, I will connect you to the roaming agent who can provide detailed information about your roaming data usage.' metadata=None timestamp=None \n",
      "**********\n",
      "id='d8e4f588100447c9a32122a2222e253e' type='handoff' agent='Customer Service Agent' content='Customer Service Agent -> Roaming Agent' metadata={'source_agent': 'Customer Service Agent', 'target_agent': 'Roaming Agent'} timestamp=None \n",
      "**********\n",
      "id='489ed97626524a85baa233d1d08155a0' type='tool_call' agent='Roaming Agent' content='roaming_faq_lookup_tool' metadata={'tool_args': {'question': 'How can I check the amount of roaming data I have used?'}} timestamp=None \n",
      "**********\n",
      "id='39a261cfe2a84413ac1beada73339f7d' type='tool_output' agent='Roaming Agent' content='Use My Singtel app to check your roaming data usage. On the homescreen, simply\\ntoggle to ‘Roam’ under your mobile number to view your roaming data usage and\\ncharges.' metadata={'tool_result': 'Use My Singtel app to check your roaming data usage. On the homescreen, simply\\ntoggle to ‘Roam’ under your mobile number to view your roaming data usage and\\ncharges.'} timestamp=None \n",
      "**********\n",
      "id='60b602e52e2342b38d456d3269f8e206' type='message' agent='Roaming Agent' content=\"You can check the amount of roaming data you have used by using the My Singtel app. On the app's homescreen, simply toggle to 'Roam' under your mobile number to view your roaming data usage and charges. If you need any more help, please let me know!\" metadata=None timestamp=None \n",
      "**********\n"
     ]
    }
   ],
   "source": [
    "message=\"How can I check the amount of roaming data I have used?\"\n",
    "res = await run_convo(message, res.conversation_id)"
   ]
  },
  {
   "cell_type": "code",
   "execution_count": 15,
   "id": "89e015ab-e6b6-4f4f-bc8c-f4de0f1a8f43",
   "metadata": {},
   "outputs": [
    {
     "name": "stderr",
     "output_type": "stream",
     "text": [
      "INFO:httpx:HTTP Request: POST https://api.openai.com/v1/responses \"HTTP/1.1 200 OK\"\n",
      "INFO:httpx:HTTP Request: POST https://api.openai.com/v1/responses \"HTTP/1.1 200 OK\"\n",
      "INFO:httpx:HTTP Request: POST https://api.openai.com/v1/responses \"HTTP/1.1 200 OK\"\n"
     ]
    },
    {
     "name": "stdout",
     "output_type": "stream",
     "text": [
      "I can help you cancel your roaming plan. To proceed, I need to confirm your name and phone number again. Could you please provide them?\n",
      "I can help you with canceling your roaming plan. To proceed, may I have your name and phone number, please?\n",
      "\n",
      "context: {'customer_name': 'MyName', 'phone_number': '74325795', 'roaming_plan': 'Asia'}\n",
      "====================\n",
      "id='f5ba1b3f3b6f47728a25668331d3eb39' type='message' agent='Customer Service Agent' content='I can help you cancel your roaming plan. To proceed, I need to confirm your name and phone number again. Could you please provide them?' metadata=None timestamp=None \n",
      "**********\n",
      "id='1bcd1daac5d141789e9f344dc688abf5' type='message' agent='Customer Service Agent' content='I can help you with canceling your roaming plan. To proceed, may I have your name and phone number, please?' metadata=None timestamp=None \n",
      "**********\n"
     ]
    }
   ],
   "source": [
    "message=\"Apologies I would like to cancel my roaming plan.\"\n",
    "res = await run_convo(message, res.conversation_id)"
   ]
  },
  {
   "cell_type": "code",
   "execution_count": 16,
   "id": "d4265c52-7bad-4726-87cc-6eba9b042658",
   "metadata": {},
   "outputs": [
    {
     "name": "stderr",
     "output_type": "stream",
     "text": [
      "INFO:httpx:HTTP Request: POST https://api.openai.com/v1/responses \"HTTP/1.1 200 OK\"\n",
      "INFO:httpx:HTTP Request: POST https://api.openai.com/v1/responses \"HTTP/1.1 200 OK\"\n",
      "INFO:httpx:HTTP Request: POST https://api.openai.com/v1/responses \"HTTP/1.1 200 OK\"\n",
      "INFO:httpx:HTTP Request: POST https://api.openai.com/v1/responses \"HTTP/1.1 200 OK\"\n"
     ]
    },
    {
     "name": "stdout",
     "output_type": "stream",
     "text": [
      "Thank you for confirming, MyName. Just to confirm, your phone number is 74325795 and your current roaming plan is Asia. Is that correct?\n",
      "\n",
      "context: {'customer_name': 'MyName', 'phone_number': '74325795', 'roaming_plan': 'Asia'}\n",
      "====================\n",
      "id='4a2cc2ac85f045aa92e7e809811e74bb' type='tool_call' agent='Customer Service Agent' content='get_customer_information_tool' metadata={'tool_args': {'customer_name': 'MyName', 'phone_number': '74325795'}} timestamp=None \n",
      "**********\n",
      "id='d5b4cde6b6e14795877455c43fb1fadc' type='tool_output' agent='Customer Service Agent' content='None' metadata={'tool_result': None} timestamp=None \n",
      "**********\n",
      "id='60e646866fd24d6b8a08d25f42596bfc' type='handoff' agent='Customer Service Agent' content='Customer Service Agent -> Cancellation Agent' metadata={'source_agent': 'Customer Service Agent', 'target_agent': 'Cancellation Agent'} timestamp=None \n",
      "**********\n",
      "id='01c1202d0bea4fea96935bc76854c9c2' type='message' agent='Cancellation Agent' content='Thank you for confirming, MyName. Just to confirm, your phone number is 74325795 and your current roaming plan is Asia. Is that correct?' metadata=None timestamp=None \n",
      "**********\n"
     ]
    }
   ],
   "source": [
    "message=f\"My name is {customer_name} and my phone number is {phone_number}.\"\n",
    "res = await run_convo(message, res.conversation_id)"
   ]
  },
  {
   "cell_type": "code",
   "execution_count": 17,
   "id": "bde3ab66-1220-4520-8ed3-ef8bc9e306a2",
   "metadata": {},
   "outputs": [
    {
     "name": "stderr",
     "output_type": "stream",
     "text": [
      "INFO:httpx:HTTP Request: POST https://api.openai.com/v1/responses \"HTTP/1.1 200 OK\"\n",
      "INFO:httpx:HTTP Request: POST https://api.openai.com/v1/responses \"HTTP/1.1 200 OK\"\n",
      "INFO:httpx:HTTP Request: POST https://api.openai.com/v1/responses \"HTTP/1.1 200 OK\"\n",
      "INFO:httpx:HTTP Request: POST https://api.openai.com/v1/responses \"HTTP/1.1 200 OK\"\n",
      "INFO:httpx:HTTP Request: POST https://api.openai.com/v1/responses \"HTTP/1.1 200 OK\"\n"
     ]
    },
    {
     "name": "stdout",
     "output_type": "stream",
     "text": [
      "Your roaming plan for phone number 74325795 has been successfully canceled. If there is anything else you need help with, please let me know!\n",
      "\n",
      "context: {'customer_name': 'MyName', 'phone_number': '74325795', 'roaming_plan': None}\n",
      "====================\n",
      "id='04674503af1e451a820af5b52705f055' type='tool_call' agent='Cancellation Agent' content='roaming_cancellation_tool' metadata={'tool_args': {}} timestamp=None \n",
      "**********\n",
      "id='c71f03507c6e48da86571f71e165988e' type='tool_output' agent='Cancellation Agent' content='Removed roaming plan for 74325795' metadata={'tool_result': 'Removed roaming plan for 74325795'} timestamp=None \n",
      "**********\n",
      "id='23758b594c844019a0f00df6290a3a41' type='handoff' agent='Cancellation Agent' content='Cancellation Agent -> Customer Service Agent' metadata={'source_agent': 'Cancellation Agent', 'target_agent': 'Customer Service Agent'} timestamp=None \n",
      "**********\n",
      "id='559e57fac75043c0a9e4c25af08b5663' type='message' agent='Customer Service Agent' content='Your roaming plan for phone number 74325795 has been successfully canceled. If there is anything else you need help with, please let me know!' metadata=None timestamp=None \n",
      "**********\n",
      "id='6d5fa7244c3e4edaac8198a511875859' type='context_update' agent='Customer Service Agent' content='' metadata={'changes': {'roaming_plan': None}} timestamp=None \n",
      "**********\n"
     ]
    }
   ],
   "source": [
    "message=\"Yes that is correct. Please go ahead and cancel.\"\n",
    "res = await run_convo(message, res.conversation_id)"
   ]
  },
  {
   "cell_type": "code",
   "execution_count": null,
   "id": "e262b55a-5983-445e-83ff-37dc3d1cd025",
   "metadata": {},
   "outputs": [],
   "source": []
  }
 ],
 "metadata": {
  "kernelspec": {
   "display_name": "Python 3 (ipykernel)",
   "language": "python",
   "name": "python3"
  },
  "language_info": {
   "codemirror_mode": {
    "name": "ipython",
    "version": 3
   },
   "file_extension": ".py",
   "mimetype": "text/x-python",
   "name": "python",
   "nbconvert_exporter": "python",
   "pygments_lexer": "ipython3",
   "version": "3.12.11"
  }
 },
 "nbformat": 4,
 "nbformat_minor": 5
}
