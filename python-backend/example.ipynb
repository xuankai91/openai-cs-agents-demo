{
 "cells": [
  {
   "cell_type": "code",
   "execution_count": 1,
   "id": "cf4ccce1-d68c-4710-844b-a7f2c0cdc5e5",
   "metadata": {},
   "outputs": [
    {
     "name": "stderr",
     "output_type": "stream",
     "text": [
      "/opt/conda/lib/python3.12/site-packages/milvus_lite/__init__.py:15: UserWarning: pkg_resources is deprecated as an API. See https://setuptools.pypa.io/en/latest/pkg_resources.html. The pkg_resources package is slated for removal as early as 2025-11-30. Refrain from using this package or pin to Setuptools<81.\n",
      "  from pkg_resources import DistributionNotFound, get_distribution\n"
     ]
    }
   ],
   "source": [
    "from api2 import *\n",
    "import sqlite3"
   ]
  },
  {
   "cell_type": "code",
   "execution_count": 2,
   "id": "a61bef13-970b-4e1d-9a88-55849115d837",
   "metadata": {},
   "outputs": [],
   "source": [
    "async def run_convo(message,conversation_id=None):\n",
    "    msg = ChatRequest(message=message,conversation_id=conversation_id)\n",
    "    resp = await chat_endpoint(msg)\n",
    "    for m in resp.messages:\n",
    "        print(m.content)\n",
    "    print('\\ncontext:',resp.context)\n",
    "    print('='*20)\n",
    "    for e in resp.events:\n",
    "        print(e,'\\n'+'*'*10)\n",
    "    \n",
    "    #print('\\nconvo:',list(app.conversation_store._conversations.keys()))\n",
    "    return resp"
   ]
  },
  {
   "cell_type": "code",
   "execution_count": 3,
   "id": "aed34f41-ea58-434e-b71a-193bf330c638",
   "metadata": {},
   "outputs": [
    {
     "name": "stdout",
     "output_type": "stream",
     "text": [
      "Name1 79444298\n"
     ]
    }
   ],
   "source": [
    "# connect to SQL server\n",
    "conn = sqlite3.connect('roaming_plans.db')\n",
    "cursor = conn.cursor()\n",
    "\n",
    "# create dummy data\n",
    "import random\n",
    "customer_name = \"Name1\"\n",
    "phone_number = '7' + str(random.randint(1000000, 9999999))\n",
    "\n",
    "print(customer_name, phone_number)"
   ]
  },
  {
   "cell_type": "code",
   "execution_count": 4,
   "id": "c20a50d0-770a-4b2c-af6e-b579fa0dee8e",
   "metadata": {},
   "outputs": [
    {
     "name": "stderr",
     "output_type": "stream",
     "text": [
      "INFO:httpx:HTTP Request: POST https://api.openai.com/v1/responses \"HTTP/1.1 200 OK\"\n",
      "INFO:httpx:HTTP Request: POST https://api.openai.com/v1/responses \"HTTP/1.1 200 OK\"\n",
      "INFO:httpx:HTTP Request: POST https://api.openai.com/v1/responses \"HTTP/1.1 200 OK\"\n"
     ]
    },
    {
     "name": "stdout",
     "output_type": "stream",
     "text": [
      "Before I assist you with purchasing a roaming plan and provide details on the available plans, could you please provide me with your name and phone number? This will help me update your profile and facilitate the process.\n",
      "\n",
      "context: {'customer_name': None, 'phone_number': None, 'roaming_plan': None}\n",
      "====================\n",
      "id='71e4ca349ef14f4084e46a4c0d1c4eb1' type='message' agent='Customer Service Agent' content='Before I assist you with purchasing a roaming plan and provide details on the available plans, could you please provide me with your name and phone number? This will help me update your profile and facilitate the process.' metadata=None timestamp=None \n",
      "**********\n"
     ]
    },
    {
     "name": "stderr",
     "output_type": "stream",
     "text": [
      "INFO:httpx:HTTP Request: POST https://api.openai.com/v1/traces/ingest \"HTTP/1.1 204 No Content\"\n",
      "INFO:httpx:HTTP Request: POST https://api.openai.com/v1/traces/ingest \"HTTP/1.1 204 No Content\"\n",
      "INFO:httpx:HTTP Request: POST https://api.openai.com/v1/traces/ingest \"HTTP/1.1 204 No Content\"\n",
      "INFO:httpx:HTTP Request: POST https://api.openai.com/v1/traces/ingest \"HTTP/1.1 204 No Content\"\n",
      "INFO:httpx:HTTP Request: POST https://api.openai.com/v1/traces/ingest \"HTTP/1.1 204 No Content\"\n",
      "INFO:httpx:HTTP Request: POST https://api.openai.com/v1/traces/ingest \"HTTP/1.1 204 No Content\"\n",
      "INFO:httpx:HTTP Request: POST https://api.openai.com/v1/traces/ingest \"HTTP/1.1 204 No Content\"\n",
      "INFO:httpx:HTTP Request: POST https://api.openai.com/v1/traces/ingest \"HTTP/1.1 204 No Content\"\n",
      "INFO:httpx:HTTP Request: POST https://api.openai.com/v1/traces/ingest \"HTTP/1.1 204 No Content\"\n",
      "INFO:httpx:HTTP Request: POST https://api.openai.com/v1/traces/ingest \"HTTP/1.1 204 No Content\"\n",
      "INFO:httpx:HTTP Request: POST https://api.openai.com/v1/traces/ingest \"HTTP/1.1 204 No Content\"\n",
      "INFO:httpx:HTTP Request: POST https://api.openai.com/v1/traces/ingest \"HTTP/1.1 204 No Content\"\n",
      "INFO:httpx:HTTP Request: POST https://api.openai.com/v1/traces/ingest \"HTTP/1.1 204 No Content\"\n",
      "INFO:httpx:HTTP Request: POST https://api.openai.com/v1/traces/ingest \"HTTP/1.1 204 No Content\"\n",
      "INFO:httpx:HTTP Request: POST https://api.openai.com/v1/traces/ingest \"HTTP/1.1 204 No Content\"\n",
      "INFO:httpx:HTTP Request: POST https://api.openai.com/v1/traces/ingest \"HTTP/1.1 204 No Content\"\n",
      "INFO:httpx:HTTP Request: POST https://api.openai.com/v1/traces/ingest \"HTTP/1.1 204 No Content\"\n",
      "INFO:httpx:HTTP Request: POST https://api.openai.com/v1/traces/ingest \"HTTP/1.1 204 No Content\"\n",
      "INFO:httpx:HTTP Request: POST https://api.openai.com/v1/traces/ingest \"HTTP/1.1 204 No Content\"\n"
     ]
    }
   ],
   "source": [
    "message = \"I would like to buy a roaming plan. What roaming plans do you have?\"\n",
    "res = await run_convo(message)"
   ]
  },
  {
   "cell_type": "code",
   "execution_count": 5,
   "id": "54bf9ffb-b176-40bd-90a0-e6133395dc0b",
   "metadata": {},
   "outputs": [
    {
     "name": "stderr",
     "output_type": "stream",
     "text": [
      "INFO:httpx:HTTP Request: POST https://api.openai.com/v1/responses \"HTTP/1.1 200 OK\"\n",
      "INFO:httpx:HTTP Request: POST https://api.openai.com/v1/responses \"HTTP/1.1 200 OK\"\n",
      "INFO:httpx:HTTP Request: POST https://api.openai.com/v1/responses \"HTTP/1.1 200 OK\"\n",
      "INFO:httpx:HTTP Request: POST https://api.openai.com/v1/responses \"HTTP/1.1 200 OK\"\n"
     ]
    },
    {
     "name": "stdout",
     "output_type": "stream",
     "text": [
      "Thank you, Name1. To recommend the most suitable roaming plan for you, may I know which countries or destinations you are planning to travel to? This will help me suggest the best roaming plan options for your trip.\n",
      "\n",
      "context: {'customer_name': 'Name1', 'phone_number': '79444298', 'roaming_plan': None}\n",
      "====================\n",
      "id='0c30b860f68f4d7f9b79780c44d02cf7' type='tool_call' agent='Customer Service Agent' content='get_customer_information_tool' metadata={'tool_args': {'customer_name': 'Name1', 'phone_number': '79444298'}} timestamp=None \n",
      "**********\n",
      "id='c7ad407778f84e0e8e650bf7dc72fd00' type='tool_output' agent='Customer Service Agent' content='None' metadata={'tool_result': None} timestamp=None \n",
      "**********\n",
      "id='876f2f8c43f8434ead89fa0bae0ae2ea' type='handoff' agent='Customer Service Agent' content='Customer Service Agent -> Roaming Agent' metadata={'source_agent': 'Customer Service Agent', 'target_agent': 'Roaming Agent'} timestamp=None \n",
      "**********\n",
      "id='7c5e71fb7558477699622d9cb8365e41' type='message' agent='Roaming Agent' content='Thank you, Name1. To recommend the most suitable roaming plan for you, may I know which countries or destinations you are planning to travel to? This will help me suggest the best roaming plan options for your trip.' metadata=None timestamp=None \n",
      "**********\n",
      "id='58f9033767d34329a136c1eda3d2a39d' type='context_update' agent='Roaming Agent' content='' metadata={'changes': {'customer_name': 'Name1', 'phone_number': '79444298'}} timestamp=None \n",
      "**********\n"
     ]
    }
   ],
   "source": [
    "message = f\"My name is {customer_name} and my phone number is {phone_number}.\"\n",
    "res = await run_convo(message,res.conversation_id)"
   ]
  },
  {
   "cell_type": "code",
   "execution_count": 6,
   "id": "8c9e26ad-f58f-4146-a284-084638b76039",
   "metadata": {},
   "outputs": [
    {
     "name": "stdout",
     "output_type": "stream",
     "text": [
      "('Name1', '79444298', 'None', '2025-07-02 08:27:02')\n"
     ]
    }
   ],
   "source": [
    "# check that record has been created\n",
    "cursor.execute(f\"SELECT * FROM plans where customer_name=='{customer_name}' and phone_number=='{phone_number}'\")\n",
    "for row in cursor.fetchall():\n",
    "    print(row)"
   ]
  },
  {
   "cell_type": "code",
   "execution_count": 7,
   "id": "d285c8a5-48e3-4580-b9bd-eb5a47764af2",
   "metadata": {},
   "outputs": [
    {
     "name": "stderr",
     "output_type": "stream",
     "text": [
      "INFO:httpx:HTTP Request: POST https://api.openai.com/v1/responses \"HTTP/1.1 200 OK\"\n",
      "INFO:httpx:HTTP Request: POST https://api.openai.com/v1/responses \"HTTP/1.1 200 OK\"\n",
      "INFO:httpx:HTTP Request: POST https://api.openai.com/v1/responses \"HTTP/1.1 200 OK\"\n",
      "INFO:httpx:HTTP Request: POST https://api.openai.com/v1/responses \"HTTP/1.1 200 OK\"\n",
      "INFO:httpx:HTTP Request: POST https://api.openai.com/v1/responses \"HTTP/1.1 200 OK\"\n"
     ]
    },
    {
     "name": "stdout",
     "output_type": "stream",
     "text": [
      "For your trip to Australia and New Zealand, the ReadyRoam Asia plan would be suitable. If you would like, I can provide more details about this plan or help you with the purchase.\n",
      "\n",
      "context: {'customer_name': 'Name1', 'phone_number': '79444298', 'roaming_plan': None}\n",
      "====================\n",
      "id='c1aecac136df411b91d6eb77944985ce' type='handoff' agent='Customer Service Agent' content='Customer Service Agent -> Roaming Agent' metadata={'source_agent': 'Customer Service Agent', 'target_agent': 'Roaming Agent'} timestamp=None \n",
      "**********\n",
      "id='d310694eb4bf42919b5bdfa27d93cbd3' type='tool_call' agent='Roaming Agent' content='roaming_plans_lookup_tool' metadata={'tool_args': {'destinations': ['Australia', 'New Zealand']}} timestamp=None \n",
      "**********\n",
      "id='e61863574008428a92129e3a81e903d1' type='tool_output' agent='Roaming Agent' content='ReadyRoam Asia would be suitable for your trip.' metadata={'tool_result': 'ReadyRoam Asia would be suitable for your trip.'} timestamp=None \n",
      "**********\n",
      "id='6d2b828eb5f34cf6a480a6adf50427c9' type='message' agent='Roaming Agent' content='For your trip to Australia and New Zealand, the ReadyRoam Asia plan would be suitable. If you would like, I can provide more details about this plan or help you with the purchase.' metadata=None timestamp=None \n",
      "**********\n"
     ]
    }
   ],
   "source": [
    "message=\"I am travelling to Australia and New Zealand. Which roaming plan would be suitable?\"\n",
    "res = await run_convo(message, res.conversation_id)"
   ]
  },
  {
   "cell_type": "code",
   "execution_count": 8,
   "id": "1a2f0aa7-051e-4a19-be63-14cbec8c60f4",
   "metadata": {},
   "outputs": [
    {
     "name": "stderr",
     "output_type": "stream",
     "text": [
      "INFO:httpx:HTTP Request: POST https://api.openai.com/v1/responses \"HTTP/1.1 200 OK\"\n",
      "INFO:httpx:HTTP Request: POST https://api.openai.com/v1/responses \"HTTP/1.1 200 OK\"\n",
      "INFO:httpx:HTTP Request: POST https://api.openai.com/v1/responses \"HTTP/1.1 200 OK\"\n",
      "INFO:httpx:HTTP Request: POST https://api.openai.com/v1/responses \"HTTP/1.1 200 OK\"\n"
     ]
    },
    {
     "name": "stdout",
     "output_type": "stream",
     "text": [
      "Just to confirm, your phone number is 79444298 and you want to purchase the \"Asia\" roaming plan, correct?\n",
      "\n",
      "context: {'customer_name': 'Name1', 'phone_number': '79444298', 'roaming_plan': None}\n",
      "====================\n",
      "id='1d97e03a6f884c1dbd391b7e146417e4' type='handoff' agent='Customer Service Agent' content='Customer Service Agent -> Purchase Agent' metadata={'source_agent': 'Customer Service Agent', 'target_agent': 'Purchase Agent'} timestamp=None \n",
      "**********\n",
      "id='b3bf4171744e47af85416d5e7da124de' type='message' agent='Purchase Agent' content='Just to confirm, your phone number is 79444298 and you want to purchase the \"Asia\" roaming plan, correct?' metadata=None timestamp=None \n",
      "**********\n"
     ]
    }
   ],
   "source": [
    "message=\"Sure, please help me purchase the ReadyRoam Asia plan\"\n",
    "res = await run_convo(message, res.conversation_id)"
   ]
  },
  {
   "cell_type": "code",
   "execution_count": 9,
   "id": "cdf6fb37-18ef-4907-b24c-491e1c91fda4",
   "metadata": {},
   "outputs": [
    {
     "name": "stderr",
     "output_type": "stream",
     "text": [
      "INFO:httpx:HTTP Request: POST https://api.openai.com/v1/responses \"HTTP/1.1 200 OK\"\n",
      "INFO:httpx:HTTP Request: POST https://api.openai.com/v1/responses \"HTTP/1.1 200 OK\"\n",
      "INFO:httpx:HTTP Request: POST https://api.openai.com/v1/responses \"HTTP/1.1 200 OK\"\n",
      "INFO:httpx:HTTP Request: POST https://api.openai.com/v1/responses \"HTTP/1.1 200 OK\"\n",
      "INFO:httpx:HTTP Request: POST https://api.openai.com/v1/responses \"HTTP/1.1 200 OK\"\n"
     ]
    },
    {
     "name": "stdout",
     "output_type": "stream",
     "text": [
      "The ReadyRoam Asia roaming plan has been successfully purchased for your phone number 79444298. If you have any other questions or need further assistance, feel free to ask!\n",
      "\n",
      "context: {'customer_name': 'Name1', 'phone_number': '79444298', 'roaming_plan': 'Asia'}\n",
      "====================\n",
      "id='7e5a288d3ee34a64bb7fbe41bf0af9e2' type='tool_call' agent='Purchase Agent' content='purchase_roaming_tool' metadata={'tool_args': {'new_roaming_plan': 'Asia'}} timestamp=None \n",
      "**********\n",
      "id='0ea0d25781cc4427b8826815b33bcc98' type='tool_output' agent='Purchase Agent' content='Updated roaming plan to Asia for 79444298' metadata={'tool_result': 'Updated roaming plan to Asia for 79444298'} timestamp=None \n",
      "**********\n",
      "id='9eac3f4ba8cc41b6bddd4cba77450a0e' type='handoff' agent='Purchase Agent' content='Purchase Agent -> Customer Service Agent' metadata={'source_agent': 'Purchase Agent', 'target_agent': 'Customer Service Agent'} timestamp=None \n",
      "**********\n",
      "id='2d32130aedc84d8cae0995b91f03c709' type='message' agent='Customer Service Agent' content='The ReadyRoam Asia roaming plan has been successfully purchased for your phone number 79444298. If you have any other questions or need further assistance, feel free to ask!' metadata=None timestamp=None \n",
      "**********\n",
      "id='c3b3eb5e31204b8faf9b953d085f4918' type='context_update' agent='Customer Service Agent' content='' metadata={'changes': {'roaming_plan': 'Asia'}} timestamp=None \n",
      "**********\n"
     ]
    }
   ],
   "source": [
    "message=\"Yes that is correct\"\n",
    "res = await run_convo(message, res.conversation_id)"
   ]
  },
  {
   "cell_type": "code",
   "execution_count": 10,
   "id": "2977a52e-4f85-436e-9841-4397baa4a791",
   "metadata": {},
   "outputs": [
    {
     "name": "stdout",
     "output_type": "stream",
     "text": [
      "('Name1', '79444298', 'None', '2025-07-02 08:27:02')\n",
      "('Name1', '79444298', 'asia', '2025-07-02 08:27:40')\n"
     ]
    }
   ],
   "source": [
    "# check that record has been updated (new entry)\n",
    "cursor.execute(f\"SELECT * FROM plans where customer_name=='{customer_name}' and phone_number=='{phone_number}'\")\n",
    "for row in cursor.fetchall():\n",
    "    print(row)"
   ]
  },
  {
   "cell_type": "code",
   "execution_count": 11,
   "id": "d3b2eca5-bf1d-4ab9-aa50-ea2c08f45ca2",
   "metadata": {},
   "outputs": [
    {
     "name": "stderr",
     "output_type": "stream",
     "text": [
      "INFO:httpx:HTTP Request: POST https://api.openai.com/v1/responses \"HTTP/1.1 200 OK\"\n",
      "INFO:httpx:HTTP Request: POST https://api.openai.com/v1/responses \"HTTP/1.1 200 OK\"\n",
      "INFO:httpx:HTTP Request: POST https://api.openai.com/v1/responses \"HTTP/1.1 200 OK\"\n",
      "INFO:httpx:HTTP Request: POST https://api.openai.com/v1/responses \"HTTP/1.1 200 OK\"\n"
     ]
    },
    {
     "name": "stdout",
     "output_type": "stream",
     "text": [
      "<performing RAG>\n",
      "encoding query...\n",
      "retrieving answers...\n"
     ]
    },
    {
     "name": "stderr",
     "output_type": "stream",
     "text": [
      "INFO:httpx:HTTP Request: POST https://api.openai.com/v1/embeddings \"HTTP/1.1 200 OK\"\n",
      "INFO:httpx:HTTP Request: POST https://api.openai.com/v1/responses \"HTTP/1.1 200 OK\"\n"
     ]
    },
    {
     "name": "stdout",
     "output_type": "stream",
     "text": [
      "You can check the amount of roaming data you have used by using the My Singtel app. On the home screen, simply toggle to ‘Roam’ under your mobile number to view your roaming data usage and charges. If you need help with anything else, just let me know!\n",
      "\n",
      "context: {'customer_name': 'Name1', 'phone_number': '79444298', 'roaming_plan': 'Asia'}\n",
      "====================\n",
      "id='4ac97ce619a84217861f66545e538a26' type='handoff' agent='Customer Service Agent' content='Customer Service Agent -> Roaming Agent' metadata={'source_agent': 'Customer Service Agent', 'target_agent': 'Roaming Agent'} timestamp=None \n",
      "**********\n",
      "id='bfb5afbacce844e68efbd76c164bbe9d' type='tool_call' agent='Roaming Agent' content='roaming_faq_lookup_tool' metadata={'tool_args': {'question': 'How can I check the amount of roaming data I have used?'}} timestamp=None \n",
      "**********\n",
      "id='6965f8b93b70499db52ee0c21d52ee6c' type='tool_output' agent='Roaming Agent' content='Use My Singtel app to check your roaming data usage. On the homescreen, simply\\ntoggle to ‘Roam’ under your mobile number to view your roaming data usage and\\ncharges.' metadata={'tool_result': 'Use My Singtel app to check your roaming data usage. On the homescreen, simply\\ntoggle to ‘Roam’ under your mobile number to view your roaming data usage and\\ncharges.'} timestamp=None \n",
      "**********\n",
      "id='46a16ebd02d641d0b4cf9e4e03d46083' type='message' agent='Roaming Agent' content='You can check the amount of roaming data you have used by using the My Singtel app. On the home screen, simply toggle to ‘Roam’ under your mobile number to view your roaming data usage and charges. If you need help with anything else, just let me know!' metadata=None timestamp=None \n",
      "**********\n"
     ]
    }
   ],
   "source": [
    "message=\"How can I check the amount of roaming data I have used?\"\n",
    "res = await run_convo(message, res.conversation_id)"
   ]
  },
  {
   "cell_type": "code",
   "execution_count": 12,
   "id": "89e015ab-e6b6-4f4f-bc8c-f4de0f1a8f43",
   "metadata": {},
   "outputs": [
    {
     "name": "stderr",
     "output_type": "stream",
     "text": [
      "INFO:httpx:HTTP Request: POST https://api.openai.com/v1/responses \"HTTP/1.1 200 OK\"\n",
      "INFO:httpx:HTTP Request: POST https://api.openai.com/v1/responses \"HTTP/1.1 200 OK\"\n",
      "INFO:httpx:HTTP Request: POST https://api.openai.com/v1/responses \"HTTP/1.1 200 OK\"\n"
     ]
    },
    {
     "name": "stdout",
     "output_type": "stream",
     "text": [
      "I can help you with canceling your roaming plan. Could you please confirm your name and phone number for verification?\n",
      "I can help you with canceling your roaming plan. Could you please confirm your name and phone number for verification?\n",
      "\n",
      "context: {'customer_name': 'Name1', 'phone_number': '79444298', 'roaming_plan': 'Asia'}\n",
      "====================\n",
      "id='7c4f3d0af3b8484cab7e1b03bd8db98a' type='message' agent='Customer Service Agent' content='I can help you with canceling your roaming plan. Could you please confirm your name and phone number for verification?' metadata=None timestamp=None \n",
      "**********\n",
      "id='3c4894e52b9244ea9e0d0a282d68d320' type='message' agent='Customer Service Agent' content='I can help you with canceling your roaming plan. Could you please confirm your name and phone number for verification?' metadata=None timestamp=None \n",
      "**********\n"
     ]
    }
   ],
   "source": [
    "message=\"Apologies I would like to cancel my roaming plan.\"\n",
    "res = await run_convo(message, res.conversation_id)"
   ]
  },
  {
   "cell_type": "code",
   "execution_count": 13,
   "id": "d4265c52-7bad-4726-87cc-6eba9b042658",
   "metadata": {},
   "outputs": [
    {
     "name": "stderr",
     "output_type": "stream",
     "text": [
      "INFO:httpx:HTTP Request: POST https://api.openai.com/v1/responses \"HTTP/1.1 200 OK\"\n",
      "INFO:httpx:HTTP Request: POST https://api.openai.com/v1/responses \"HTTP/1.1 200 OK\"\n",
      "INFO:httpx:HTTP Request: POST https://api.openai.com/v1/responses \"HTTP/1.1 200 OK\"\n",
      "INFO:httpx:HTTP Request: POST https://api.openai.com/v1/responses \"HTTP/1.1 200 OK\"\n"
     ]
    },
    {
     "name": "stdout",
     "output_type": "stream",
     "text": [
      "Thank you for confirming. Your phone number is 79444298 and your current roaming plan is Asia. Is that correct? Should I proceed to cancel this roaming plan for you?\n",
      "\n",
      "context: {'customer_name': 'Name1', 'phone_number': '79444298', 'roaming_plan': 'Asia'}\n",
      "====================\n",
      "id='d8d15d28684342228bd9ee63f892a375' type='tool_call' agent='Customer Service Agent' content='get_customer_information_tool' metadata={'tool_args': {'customer_name': 'Name1', 'phone_number': '79444298'}} timestamp=None \n",
      "**********\n",
      "id='ec2adcea98a941189b3005a252550477' type='tool_output' agent='Customer Service Agent' content='None' metadata={'tool_result': None} timestamp=None \n",
      "**********\n",
      "id='abefe7ad4ea3446faf1c285671cd9e0c' type='handoff' agent='Customer Service Agent' content='Customer Service Agent -> Cancellation Agent' metadata={'source_agent': 'Customer Service Agent', 'target_agent': 'Cancellation Agent'} timestamp=None \n",
      "**********\n",
      "id='0a1d3b0f3ae74d279d20c76d61915ebe' type='message' agent='Cancellation Agent' content='Thank you for confirming. Your phone number is 79444298 and your current roaming plan is Asia. Is that correct? Should I proceed to cancel this roaming plan for you?' metadata=None timestamp=None \n",
      "**********\n"
     ]
    }
   ],
   "source": [
    "message=f\"My name is {customer_name} and my phone number is {phone_number}.\"\n",
    "res = await run_convo(message, res.conversation_id)"
   ]
  },
  {
   "cell_type": "code",
   "execution_count": 14,
   "id": "bde3ab66-1220-4520-8ed3-ef8bc9e306a2",
   "metadata": {},
   "outputs": [
    {
     "name": "stderr",
     "output_type": "stream",
     "text": [
      "INFO:httpx:HTTP Request: POST https://api.openai.com/v1/responses \"HTTP/1.1 200 OK\"\n",
      "INFO:httpx:HTTP Request: POST https://api.openai.com/v1/responses \"HTTP/1.1 200 OK\"\n",
      "INFO:httpx:HTTP Request: POST https://api.openai.com/v1/responses \"HTTP/1.1 200 OK\"\n",
      "INFO:httpx:HTTP Request: POST https://api.openai.com/v1/responses \"HTTP/1.1 200 OK\"\n",
      "INFO:httpx:HTTP Request: POST https://api.openai.com/v1/responses \"HTTP/1.1 200 OK\"\n"
     ]
    },
    {
     "name": "stdout",
     "output_type": "stream",
     "text": [
      "Your roaming plan for phone number 79444298 has been successfully canceled. If you need any further assistance, please feel free to ask.\n",
      "\n",
      "context: {'customer_name': 'Name1', 'phone_number': '79444298', 'roaming_plan': None}\n",
      "====================\n",
      "id='1ed7faf929fa45989d82cfd2f8de36ec' type='tool_call' agent='Cancellation Agent' content='roaming_cancellation_tool' metadata={'tool_args': {}} timestamp=None \n",
      "**********\n",
      "id='4b150ab3f6124a4d93ef0afaae9f95c5' type='tool_output' agent='Cancellation Agent' content='Removed roaming plan for 79444298' metadata={'tool_result': 'Removed roaming plan for 79444298'} timestamp=None \n",
      "**********\n",
      "id='cf548f14474a423ebf755a29d8ea04f2' type='handoff' agent='Cancellation Agent' content='Cancellation Agent -> Customer Service Agent' metadata={'source_agent': 'Cancellation Agent', 'target_agent': 'Customer Service Agent'} timestamp=None \n",
      "**********\n",
      "id='3002ee69b7f94c0284ecd214fe6e19a3' type='message' agent='Customer Service Agent' content='Your roaming plan for phone number 79444298 has been successfully canceled. If you need any further assistance, please feel free to ask.' metadata=None timestamp=None \n",
      "**********\n",
      "id='2a13d297a0534a8ba09a8756d416d9e0' type='context_update' agent='Customer Service Agent' content='' metadata={'changes': {'roaming_plan': None}} timestamp=None \n",
      "**********\n"
     ]
    }
   ],
   "source": [
    "message=\"Yes that is correct. Please go ahead and cancel.\"\n",
    "res = await run_convo(message, res.conversation_id)"
   ]
  },
  {
   "cell_type": "code",
   "execution_count": 15,
   "id": "497ffe57-effb-4714-a76d-77656a4bcf10",
   "metadata": {},
   "outputs": [
    {
     "name": "stdout",
     "output_type": "stream",
     "text": [
      "('Name1', '79444298', 'None', '2025-07-02 08:27:02')\n",
      "('Name1', '79444298', 'asia', '2025-07-02 08:27:40')\n",
      "('Name1', '79444298', 'None', '2025-07-02 08:30:29')\n"
     ]
    }
   ],
   "source": [
    "# now, check that latest record shows roaming plan has been cancelled\n",
    "cursor.execute(f\"SELECT * FROM plans where customer_name=='{customer_name}' and phone_number=='{phone_number}'\")\n",
    "for row in cursor.fetchall():\n",
    "    print(row)"
   ]
  },
  {
   "cell_type": "code",
   "execution_count": 16,
   "id": "e262b55a-5983-445e-83ff-37dc3d1cd025",
   "metadata": {},
   "outputs": [],
   "source": [
    "conn.close()"
   ]
  }
 ],
 "metadata": {
  "kernelspec": {
   "display_name": "Python 3 (ipykernel)",
   "language": "python",
   "name": "python3"
  },
  "language_info": {
   "codemirror_mode": {
    "name": "ipython",
    "version": 3
   },
   "file_extension": ".py",
   "mimetype": "text/x-python",
   "name": "python",
   "nbconvert_exporter": "python",
   "pygments_lexer": "ipython3",
   "version": "3.12.11"
  }
 },
 "nbformat": 4,
 "nbformat_minor": 5
}
